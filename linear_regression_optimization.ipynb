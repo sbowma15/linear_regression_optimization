{
  "nbformat": 4,
  "nbformat_minor": 0,
  "metadata": {
    "colab": {
      "provenance": []
    },
    "kernelspec": {
      "name": "python3",
      "display_name": "Python 3"
    },
    "language_info": {
      "name": "python"
    }
  },
  "cells": [
    {
      "cell_type": "code",
      "execution_count": null,
      "metadata": {
        "colab": {
          "base_uri": "https://localhost:8080/",
          "height": 265
        },
        "id": "Us7qkNeZmaG9",
        "outputId": "4e32a344-3f48-4f46-aa6b-6bbc0e2325e9"
      },
      "outputs": [
        {
          "output_type": "display_data",
          "data": {
            "image/png": "[encoded data removed]",
            "text/plain": [
              "<Figure size 432x288 with 1 Axes>"
            ]
          },
          "metadata": {
            "needs_background": "light"
          }
        }
      ],
      "source": [
        "import numpy as np\n",
        "import matplotlib.pyplot as plt\n",
        "\n",
        "\n",
        "x_data = np.array([35., 38., 31., 20., 22., 25., 17., 60., 8., 60.])\n",
        "y_data = 2 * x_data + 50 + 5 * np.random.random()\n",
        "\n",
        "\n",
        "bb = np.arange(0, 100, 1)  # bias\n",
        "ww = np.arange(-5, 5, 0.1)  # weight\n",
        "Z = np.zeros((len(bb), len(ww)))\n",
        "\n",
        "best_loss = float(\"inf\")\n",
        "\n",
        "\n",
        "\n",
        "for i in range(len(bb)):\n",
        "    for j in range(len(ww)):\n",
        "        b = bb[i]\n",
        "        w = ww[j]\n",
        "        Z[j][i] = 0.0\n",
        "        for n in range(len(x_data)):\n",
        "            loss = Z[j][i] = Z[j][i] + (w * x_data[n] + b - y_data[n]) ** 2\n",
        "            if loss < best_loss:\n",
        "                best_loss = loss\n",
        "\n",
        "        Z[j][i] = Z[j][i] / len(x_data)\n",
        "\n",
        "history = grad_des(x_data, y_data)\n",
        "\n",
        "plt.contourf(bb,ww,Z, 50, alpha =0.5, cmap = plt.get_cmap('jet'))\n",
        "plt.plot(history[0], history[1], 'x', ms=15, markeredgewidth=3, color='pink')\n",
        "plt.plot(history[2], history[3], '.', ms=3, markeredgewidth=0.01, color='black')\n",
        "\n",
        "\n",
        "plt.show()\n"
      ]
    },
    {
      "cell_type": "code",
      "source": [
        "def grad_des(x,y, lr = 0.0001, iterations = 30000):\n",
        "  b = 0 # initial b\n",
        "  w = 0 # initial w\n",
        "\n",
        "  b_history = [b]\n",
        "  w_history = [w]\n",
        "\n",
        "  for i in range(iterations):\n",
        "    guess = []\n",
        "    for xval in x:\n",
        "      guess.append(w * xval + b) #Erik showing me this is where it all clicked\n",
        "\n",
        "    b_sum = 0.0\n",
        "    w_sum = 0.0\n",
        "\n",
        "    for j in range(len(x)):\n",
        "\n",
        "      b_sum = b_sum + (guess[j] - y[j])\n",
        "      w_sum = w_sum + (guess[j] - y[j]) * x[j]\n",
        "\n",
        "    b = b - ( lr * b_sum )\n",
        "    w = w - ( lr * w_sum )\n",
        "\n",
        "    w_history.append(w)\n",
        "    b_history.append(b)\n",
        "\n",
        "  return [ b, w, b_history, w_history ] #this is kind of a convoluted way to return the data but it works\n"
      ],
      "metadata": {
        "id": "i1gbpQWbGCyM"
      },
      "execution_count": null,
      "outputs": []
    },
    {
      "cell_type": "code",
      "source": [],
      "metadata": {
        "id": "RtGA4-ZwsuY1"
      },
      "execution_count": null,
      "outputs": []
    }
  ]
}